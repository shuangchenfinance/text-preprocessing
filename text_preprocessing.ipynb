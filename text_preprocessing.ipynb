{
 "cells": [
  {
   "cell_type": "code",
   "execution_count": 7,
   "id": "9e266d01",
   "metadata": {},
   "outputs": [],
   "source": [
    "# Goal: preprocess texts before using them as data\n",
    "# Author: Shuang Chen\n",
    "# Date: May 23, 2022\n",
    "# The author welcomes any comment."
   ]
  },
  {
   "cell_type": "code",
   "execution_count": 8,
   "id": "ba61675d",
   "metadata": {},
   "outputs": [
    {
     "name": "stdout",
     "output_type": "stream",
     "text": [
      "Requirement already satisfied: contractions in c:\\users\\chens\\anaconda3\\lib\\site-packages (0.1.72)\n",
      "Requirement already satisfied: textsearch>=0.0.21 in c:\\users\\chens\\anaconda3\\lib\\site-packages (from contractions) (0.0.24)\n",
      "Requirement already satisfied: anyascii in c:\\users\\chens\\anaconda3\\lib\\site-packages (from textsearch>=0.0.21->contractions) (0.3.1)\n",
      "Requirement already satisfied: pyahocorasick in c:\\users\\chens\\anaconda3\\lib\\site-packages (from textsearch>=0.0.21->contractions) (1.4.4)\n"
     ]
    },
    {
     "name": "stderr",
     "output_type": "stream",
     "text": [
      "[nltk_data] Downloading package stopwords to\n",
      "[nltk_data]     C:\\Users\\chens\\AppData\\Roaming\\nltk_data...\n",
      "[nltk_data]   Package stopwords is already up-to-date!\n",
      "[nltk_data] Downloading package punkt to\n",
      "[nltk_data]     C:\\Users\\chens\\AppData\\Roaming\\nltk_data...\n",
      "[nltk_data]   Package punkt is already up-to-date!\n",
      "[nltk_data] Downloading package wordnet to\n",
      "[nltk_data]     C:\\Users\\chens\\AppData\\Roaming\\nltk_data...\n",
      "[nltk_data]   Package wordnet is already up-to-date!\n"
     ]
    }
   ],
   "source": [
    "!pip install contractions\n",
    "import csv\n",
    "import nltk\n",
    "nltk.download('stopwords')\n",
    "nltk.download('punkt')\n",
    "nltk.download('wordnet')\n",
    "from nltk.corpus import stopwords \n",
    "from nltk import tokenize\n",
    "from nltk.tokenize import word_tokenize \n",
    "from nltk.stem import WordNetLemmatizer #is based on The Porter Stemming Algorithm\n",
    "from string import punctuation\n",
    "stopword = stopwords.words('english')\n",
    "wordnet_lemmatizer = WordNetLemmatizer()\n",
    "import contractions\n",
    "import re\n",
    "def CleanHTML(results):\n",
    "    \"\"\" Clean HTML tags \"\"\"\n",
    "    res = results\n",
    "    if type(res) == str:\n",
    "        res = re.sub('%2f ', ' ', res)\n",
    "        res = re.sub('%3a ', ' ', res)\n",
    "        res = re.sub('<br>', ' ', res)\n",
    "        res = re.sub('<wbr>', ' ', res)\n",
    "        res = re.sub('</wbr>', ' ', res)\n",
    "        res = re.sub('<em>', ' ', res)\n",
    "        res = re.sub('<b>', ' ', res)\n",
    "        res = re.sub('</b>', ' ', res)\n",
    "        res = re.sub('</em>', ' ', res)\n",
    "        res = re.sub('<strong>', ' ', res)\n",
    "        res = re.sub('</strong>', ' ', res)\n",
    "        res = re.sub(' br ', ' ', res)\n",
    "        res = re.sub(' wbr ', ' ', res)\n",
    "        res = re.sub('&lt;', ' ', res)\n",
    "        res = re.sub('&gt;', ' ', res)\n",
    "        res = re.sub('&amp;', ' ', res)\n",
    "        res = re.sub('&nbsp;', ' ', res)\n",
    "        res = re.sub('&rsquo;', ' ', res)\n",
    "        res = re.sub('&rdquo;', ' ', res)\n",
    "        res = re.sub('&apos;', ' ', res)\n",
    "        res = re.sub(' lt ', ' ', res)\n",
    "        res = re.sub(' gt ', ' ', res)\n",
    "        res = re.sub(' amp ', ' ', res)\n",
    "        res = re.sub(' nbsp ', ' ', res)\n",
    "        res = re.sub(' rsquo ', ' ', res)\n",
    "        res = re.sub(' rdquo ', ' ', res)\n",
    "        res = re.sub(' apos ', ' ', res)\n",
    "    return res "
   ]
  },
  {
   "cell_type": "code",
   "execution_count": 9,
   "id": "242a05fb",
   "metadata": {},
   "outputs": [],
   "source": [
    "sample = \"The Fund employs an indexing investment approach designed to track the performance of the FTSE All-World ex US Index, a float-adjusted, market-capitalization-weighted index designed to measure equity market performance of international markets, excluding the United States. As of October 31, 2021, the Index included 3,485 stocks of companies located in 48 markets, including both developed and emerging markets. As of October 31, 2021, the largest markets covered in the Index were Japan, the United Kingdom, China, and France (which made up approximately 16%, 10%, 10%, and 7%, respectively, of the Index's market capitalization). The Fund attempts to replicate the target index by investing all, or substantially all, of its assets in the stocks that make up the Index, holding each stock in approximately the same proportion as its weighting in the Index.\"\n",
    "sample_l = contractions.fix(sample.lower()) \n",
    "#change to lowercase, replace contractions with their corresponding complete versions\n",
    "text = CleanHTML(re.sub(r'[^\\w\\s{}]+'.format(punctuation),' ', re.sub(r'\\n|\\\\n',' ', sample_l))) \n",
    "#remove \\n or \\\\n, which are typical redundant characters in webpage texts, \n",
    "#then remove characters that are not alphanumeric or punctuations,\n",
    "#then remove other typical redundant characters in webpage texts.\n",
    "text = re.sub(r'[^\\w\\s]',' ', text)\n",
    "#remove characters that are not alphanumeric.\n",
    "text_wono = ''.join(c for c in text if not c.isdigit())\n",
    "#remove numbers\n",
    "word_tokens = word_tokenize(text_wono) \n",
    "#tokenize the words\n",
    "lemmatized_word = [wordnet_lemmatizer.lemmatize(word) for word in word_tokens]\n",
    "#lemmatize the words, which may not be necessary and could be replaced with stemming.\n",
    "filtered_sentence = ' '.join(w for w in lemmatized_word if not w in stopword) \n",
    "#remove stopwords"
   ]
  },
  {
   "cell_type": "code",
   "execution_count": 10,
   "id": "256fff7c",
   "metadata": {
    "scrolled": true
   },
   "outputs": [
    {
     "name": "stdout",
     "output_type": "stream",
     "text": [
      "fund employ indexing investment approach designed track performance ftse world ex u index float adjusted market capitalization weighted index designed measure equity market performance international market excluding united state october index included stock company located market including developed emerging market october largest market covered index japan united kingdom china france made approximately respectively index market capitalization fund attempt replicate target index investing substantially asset stock make index holding stock approximately proportion weighting index\n"
     ]
    }
   ],
   "source": [
    "print(filtered_sentence)"
   ]
  }
 ],
 "metadata": {
  "kernelspec": {
   "display_name": "Python 3",
   "language": "python",
   "name": "python3"
  },
  "language_info": {
   "codemirror_mode": {
    "name": "ipython",
    "version": 3
   },
   "file_extension": ".py",
   "mimetype": "text/x-python",
   "name": "python",
   "nbconvert_exporter": "python",
   "pygments_lexer": "ipython3",
   "version": "3.8.8"
  }
 },
 "nbformat": 4,
 "nbformat_minor": 5
}
